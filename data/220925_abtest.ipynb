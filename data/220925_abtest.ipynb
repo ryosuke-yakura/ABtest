{
 "cells": [
  {
   "cell_type": "code",
   "execution_count": 97,
   "metadata": {},
   "outputs": [],
   "source": [
    "import pandas as pd\n",
    "import numpy as np\n",
    "\n",
    "import matplotlib.pyplot as plt\n",
    "import seaborn as sns\n",
    "\n",
    "import scipy\n",
    "from scipy import stats\n",
    "from scipy.stats import chi2_contingency"
   ]
  },
  {
   "cell_type": "markdown",
   "metadata": {},
   "source": [
    "##ABtest_data\n",
    "\n",
    "サイトの収入を増やすために A/B テストを開始しました。 \n",
    "Excel ファイルには、実験の結果 (userid)、サンプルの種類 \n",
    "(variantname)、およびユーザーがもたらした収入(revenue) に関する生データが含まれています。 タスクは、実験の結果を分析し、推奨事項を作成することです。"
   ]
  },
  {
   "cell_type": "code",
   "execution_count": 2,
   "metadata": {},
   "outputs": [],
   "source": [
    "#データの読み込み\n",
    "df = pd.read_csv(\"AB_Test_Results.csv\")"
   ]
  },
  {
   "cell_type": "code",
   "execution_count": 3,
   "metadata": {},
   "outputs": [
    {
     "name": "stdout",
     "output_type": "stream",
     "text": [
      "(10000, 3)\n"
     ]
    },
    {
     "data": {
      "text/html": [
       "<div>\n",
       "<style scoped>\n",
       "    .dataframe tbody tr th:only-of-type {\n",
       "        vertical-align: middle;\n",
       "    }\n",
       "\n",
       "    .dataframe tbody tr th {\n",
       "        vertical-align: top;\n",
       "    }\n",
       "\n",
       "    .dataframe thead th {\n",
       "        text-align: right;\n",
       "    }\n",
       "</style>\n",
       "<table border=\"1\" class=\"dataframe\">\n",
       "  <thead>\n",
       "    <tr style=\"text-align: right;\">\n",
       "      <th></th>\n",
       "      <th>USER_ID</th>\n",
       "      <th>VARIANT_NAME</th>\n",
       "      <th>REVENUE</th>\n",
       "    </tr>\n",
       "  </thead>\n",
       "  <tbody>\n",
       "    <tr>\n",
       "      <th>0</th>\n",
       "      <td>737</td>\n",
       "      <td>variant</td>\n",
       "      <td>0.0</td>\n",
       "    </tr>\n",
       "    <tr>\n",
       "      <th>1</th>\n",
       "      <td>2423</td>\n",
       "      <td>control</td>\n",
       "      <td>0.0</td>\n",
       "    </tr>\n",
       "    <tr>\n",
       "      <th>2</th>\n",
       "      <td>9411</td>\n",
       "      <td>control</td>\n",
       "      <td>0.0</td>\n",
       "    </tr>\n",
       "  </tbody>\n",
       "</table>\n",
       "</div>"
      ],
      "text/plain": [
       "   USER_ID VARIANT_NAME  REVENUE\n",
       "0      737      variant      0.0\n",
       "1     2423      control      0.0\n",
       "2     9411      control      0.0"
      ]
     },
     "execution_count": 3,
     "metadata": {},
     "output_type": "execute_result"
    }
   ],
   "source": [
    "#データの確認\n",
    "print(df.shape)\n",
    "df.head(3)"
   ]
  },
  {
   "cell_type": "code",
   "execution_count": 12,
   "metadata": {},
   "outputs": [
    {
     "data": {
      "text/plain": [
       "USER_ID         0\n",
       "VARIANT_NAME    0\n",
       "REVENUE         0\n",
       "dtype: int64"
      ]
     },
     "execution_count": 12,
     "metadata": {},
     "output_type": "execute_result"
    }
   ],
   "source": [
    "#欠損値の確認\n",
    "df.isnull().sum()"
   ]
  },
  {
   "cell_type": "code",
   "execution_count": 13,
   "metadata": {},
   "outputs": [
    {
     "name": "stdout",
     "output_type": "stream",
     "text": [
      "<class 'pandas.core.frame.DataFrame'>\n",
      "RangeIndex: 10000 entries, 0 to 9999\n",
      "Data columns (total 3 columns):\n",
      " #   Column        Non-Null Count  Dtype  \n",
      "---  ------        --------------  -----  \n",
      " 0   USER_ID       10000 non-null  int64  \n",
      " 1   VARIANT_NAME  10000 non-null  object \n",
      " 2   REVENUE       10000 non-null  float64\n",
      "dtypes: float64(1), int64(1), object(1)\n",
      "memory usage: 234.5+ KB\n"
     ]
    }
   ],
   "source": [
    "#データ型の確認\n",
    "df.info()"
   ]
  },
  {
   "cell_type": "code",
   "execution_count": 14,
   "metadata": {},
   "outputs": [
    {
     "data": {
      "text/html": [
       "<div>\n",
       "<style scoped>\n",
       "    .dataframe tbody tr th:only-of-type {\n",
       "        vertical-align: middle;\n",
       "    }\n",
       "\n",
       "    .dataframe tbody tr th {\n",
       "        vertical-align: top;\n",
       "    }\n",
       "\n",
       "    .dataframe thead th {\n",
       "        text-align: right;\n",
       "    }\n",
       "</style>\n",
       "<table border=\"1\" class=\"dataframe\">\n",
       "  <thead>\n",
       "    <tr style=\"text-align: right;\">\n",
       "      <th></th>\n",
       "      <th>USER_ID</th>\n",
       "      <th>REVENUE</th>\n",
       "    </tr>\n",
       "  </thead>\n",
       "  <tbody>\n",
       "    <tr>\n",
       "      <th>count</th>\n",
       "      <td>10000.000000</td>\n",
       "      <td>10000.000000</td>\n",
       "    </tr>\n",
       "    <tr>\n",
       "      <th>mean</th>\n",
       "      <td>4981.080200</td>\n",
       "      <td>0.099447</td>\n",
       "    </tr>\n",
       "    <tr>\n",
       "      <th>std</th>\n",
       "      <td>2890.590115</td>\n",
       "      <td>2.318529</td>\n",
       "    </tr>\n",
       "    <tr>\n",
       "      <th>min</th>\n",
       "      <td>2.000000</td>\n",
       "      <td>0.000000</td>\n",
       "    </tr>\n",
       "    <tr>\n",
       "      <th>25%</th>\n",
       "      <td>2468.750000</td>\n",
       "      <td>0.000000</td>\n",
       "    </tr>\n",
       "    <tr>\n",
       "      <th>50%</th>\n",
       "      <td>4962.000000</td>\n",
       "      <td>0.000000</td>\n",
       "    </tr>\n",
       "    <tr>\n",
       "      <th>75%</th>\n",
       "      <td>7511.500000</td>\n",
       "      <td>0.000000</td>\n",
       "    </tr>\n",
       "    <tr>\n",
       "      <th>max</th>\n",
       "      <td>10000.000000</td>\n",
       "      <td>196.010000</td>\n",
       "    </tr>\n",
       "  </tbody>\n",
       "</table>\n",
       "</div>"
      ],
      "text/plain": [
       "            USER_ID       REVENUE\n",
       "count  10000.000000  10000.000000\n",
       "mean    4981.080200      0.099447\n",
       "std     2890.590115      2.318529\n",
       "min        2.000000      0.000000\n",
       "25%     2468.750000      0.000000\n",
       "50%     4962.000000      0.000000\n",
       "75%     7511.500000      0.000000\n",
       "max    10000.000000    196.010000"
      ]
     },
     "execution_count": 14,
     "metadata": {},
     "output_type": "execute_result"
    }
   ],
   "source": [
    "#基本統計量\n",
    "df.describe()"
   ]
  },
  {
   "cell_type": "markdown",
   "metadata": {},
   "source": [
    "##基本情報確認"
   ]
  },
  {
   "cell_type": "code",
   "execution_count": 7,
   "metadata": {},
   "outputs": [
    {
     "data": {
      "text/plain": [
       "variant    5016\n",
       "control    4984\n",
       "Name: VARIANT_NAME, dtype: int64"
      ]
     },
     "execution_count": 7,
     "metadata": {},
     "output_type": "execute_result"
    }
   ],
   "source": [
    "#control、variantの数を確認\n",
    "df[\"VARIANT_NAME\"].value_counts()"
   ]
  },
  {
   "cell_type": "code",
   "execution_count": 9,
   "metadata": {},
   "outputs": [
    {
     "data": {
      "text/plain": [
       "(6324,)"
      ]
     },
     "execution_count": 9,
     "metadata": {},
     "output_type": "execute_result"
    }
   ],
   "source": [
    "#user_id数の確認\n",
    "df[\"USER_ID\"].unique().shape"
   ]
  },
  {
   "cell_type": "code",
   "execution_count": 10,
   "metadata": {},
   "outputs": [
    {
     "data": {
      "text/plain": [
       "0.00     9848\n",
       "1.25       10\n",
       "3.25        6\n",
       "1.01        6\n",
       "0.04        5\n",
       "         ... \n",
       "17.05       1\n",
       "8.70        1\n",
       "3.79        1\n",
       "1.92        1\n",
       "3.58        1\n",
       "Name: REVENUE, Length: 101, dtype: int64"
      ]
     },
     "execution_count": 10,
     "metadata": {},
     "output_type": "execute_result"
    }
   ],
   "source": [
    "df[\"REVENUE\"].value_counts()"
   ]
  },
  {
   "cell_type": "markdown",
   "metadata": {},
   "source": [
    "・control、variantは半々で分かれている\n",
    "\n",
    "・ユーザーIDを見ると同じIDの人が3,700人ほどいる\n",
    "\n",
    "・収益はほとんどが0"
   ]
  },
  {
   "cell_type": "code",
   "execution_count": 22,
   "metadata": {},
   "outputs": [
    {
     "data": {
      "text/html": [
       "<div>\n",
       "<style scoped>\n",
       "    .dataframe tbody tr th:only-of-type {\n",
       "        vertical-align: middle;\n",
       "    }\n",
       "\n",
       "    .dataframe tbody tr th {\n",
       "        vertical-align: top;\n",
       "    }\n",
       "\n",
       "    .dataframe thead th {\n",
       "        text-align: right;\n",
       "    }\n",
       "</style>\n",
       "<table border=\"1\" class=\"dataframe\">\n",
       "  <thead>\n",
       "    <tr style=\"text-align: right;\">\n",
       "      <th></th>\n",
       "      <th>USER_ID</th>\n",
       "      <th>VARIANT_NAME</th>\n",
       "      <th>REVENUE</th>\n",
       "      <th>size</th>\n",
       "    </tr>\n",
       "  </thead>\n",
       "  <tbody>\n",
       "    <tr>\n",
       "      <th>0</th>\n",
       "      <td>737</td>\n",
       "      <td>variant</td>\n",
       "      <td>0.0</td>\n",
       "      <td>2</td>\n",
       "    </tr>\n",
       "    <tr>\n",
       "      <th>1</th>\n",
       "      <td>737</td>\n",
       "      <td>variant</td>\n",
       "      <td>0.0</td>\n",
       "      <td>2</td>\n",
       "    </tr>\n",
       "    <tr>\n",
       "      <th>2</th>\n",
       "      <td>2423</td>\n",
       "      <td>control</td>\n",
       "      <td>0.0</td>\n",
       "      <td>3</td>\n",
       "    </tr>\n",
       "    <tr>\n",
       "      <th>3</th>\n",
       "      <td>2423</td>\n",
       "      <td>control</td>\n",
       "      <td>0.0</td>\n",
       "      <td>3</td>\n",
       "    </tr>\n",
       "    <tr>\n",
       "      <th>4</th>\n",
       "      <td>2423</td>\n",
       "      <td>variant</td>\n",
       "      <td>0.0</td>\n",
       "      <td>3</td>\n",
       "    </tr>\n",
       "  </tbody>\n",
       "</table>\n",
       "</div>"
      ],
      "text/plain": [
       "   USER_ID VARIANT_NAME  REVENUE  size\n",
       "0      737      variant      0.0     2\n",
       "1      737      variant      0.0     2\n",
       "2     2423      control      0.0     3\n",
       "3     2423      control      0.0     3\n",
       "4     2423      variant      0.0     3"
      ]
     },
     "execution_count": 22,
     "metadata": {},
     "output_type": "execute_result"
    }
   ],
   "source": [
    "#ダブっているユーザーをみてみる\n",
    "tmp = df.groupby(\"USER_ID\").agg({\"VARIANT_NAME\":\"count\"}).reset_index().rename(columns={\"VARIANT_NAME\":\"size\"}) #ユーザー毎に出現回数をカウント\n",
    "tmp = tmp[tmp[\"size\"]>1] #出現回数が２回以上のユーザーを抽出\n",
    "tmp = pd.merge(df,tmp,on=\"USER_ID\",how=\"inner\") #2回目以上のユーザーデータセットを作成\n",
    "tmp.head()"
   ]
  },
  {
   "cell_type": "code",
   "execution_count": 25,
   "metadata": {},
   "outputs": [
    {
     "data": {
      "text/html": [
       "<div>\n",
       "<style scoped>\n",
       "    .dataframe tbody tr th:only-of-type {\n",
       "        vertical-align: middle;\n",
       "    }\n",
       "\n",
       "    .dataframe tbody tr th {\n",
       "        vertical-align: top;\n",
       "    }\n",
       "\n",
       "    .dataframe thead th {\n",
       "        text-align: right;\n",
       "    }\n",
       "</style>\n",
       "<table border=\"1\" class=\"dataframe\">\n",
       "  <thead>\n",
       "    <tr style=\"text-align: right;\">\n",
       "      <th></th>\n",
       "      <th>size</th>\n",
       "    </tr>\n",
       "    <tr>\n",
       "      <th>VARIANT_NAME</th>\n",
       "      <th></th>\n",
       "    </tr>\n",
       "  </thead>\n",
       "  <tbody>\n",
       "    <tr>\n",
       "      <th>control</th>\n",
       "      <td>3150</td>\n",
       "    </tr>\n",
       "    <tr>\n",
       "      <th>variant</th>\n",
       "      <td>3186</td>\n",
       "    </tr>\n",
       "  </tbody>\n",
       "</table>\n",
       "</div>"
      ],
      "text/plain": [
       "              size\n",
       "VARIANT_NAME      \n",
       "control       3150\n",
       "variant       3186"
      ]
     },
     "execution_count": 25,
     "metadata": {},
     "output_type": "execute_result"
    }
   ],
   "source": [
    "#control、variant毎にユーザー数を確認\n",
    "tmp.groupby([\"VARIANT_NAME\"]).agg({\"size\":\"count\"})"
   ]
  },
  {
   "cell_type": "code",
   "execution_count": 41,
   "metadata": {},
   "outputs": [
    {
     "name": "stdout",
     "output_type": "stream",
     "text": [
      "2    3780\n",
      "3    1710\n",
      "4     636\n",
      "5     180\n",
      "6      30\n",
      "Name: size, dtype: int64\n",
      "6336\n"
     ]
    }
   ],
   "source": [
    "#同じユーザーの出現回数を確認\n",
    "print(tmp[\"size\"].value_counts())\n",
    "print(tmp[\"size\"].value_counts().sum())"
   ]
  },
  {
   "cell_type": "code",
   "execution_count": 45,
   "metadata": {},
   "outputs": [
    {
     "data": {
      "text/plain": [
       "2    1541\n",
       "1    1119\n",
       "Name: VARIANT_NAME, dtype: int64"
      ]
     },
     "execution_count": 45,
     "metadata": {},
     "output_type": "execute_result"
    }
   ],
   "source": [
    "#control、variantどちらにも属しているユーザー数の確認\n",
    "tmp.groupby([\"USER_ID\"])[\"VARIANT_NAME\"].nunique().value_counts()"
   ]
  },
  {
   "cell_type": "markdown",
   "metadata": {},
   "source": [
    "control、variantどちらにも属するユーザーが1,541人(24.3%)存在することがわかった。また、同一群内に複数回来ているユーザーが各群毎に約6割存在することがわかった。"
   ]
  },
  {
   "cell_type": "code",
   "execution_count": 54,
   "metadata": {},
   "outputs": [],
   "source": [
    "#control、variantどちらにも属するユーザーを除外\n",
    "user = df.groupby(\"USER_ID\")[\"VARIANT_NAME\"].nunique() == 1 #ダブっていないユーザーIDを抽出\n",
    "users = user[user] #Trueのユーザーのみ抽出"
   ]
  },
  {
   "cell_type": "code",
   "execution_count": 59,
   "metadata": {},
   "outputs": [],
   "source": [
    "#ダブってないユーザーのみ出力したリストを作成\n",
    "df_1 = df[df[\"USER_ID\"].isin(users.index)]"
   ]
  },
  {
   "cell_type": "code",
   "execution_count": 62,
   "metadata": {},
   "outputs": [
    {
     "data": {
      "text/plain": [
       "<matplotlib.axes._subplots.AxesSubplot at 0x4057b3b550>"
      ]
     },
     "execution_count": 62,
     "metadata": {},
     "output_type": "execute_result"
    },
    {
     "data": {
      "image/png": "[encoded data removed]",
      "text/plain": [
       "<Figure size 432x288 with 1 Axes>"
      ]
     },
     "metadata": {
      "needs_background": "light"
     },
     "output_type": "display_data"
    }
   ],
   "source": [
    "#REVENUEの箱ひげ図作成\n",
    "sns.boxplot(data=df_1, x=\"VARIANT_NAME\", y=\"REVENUE\")"
   ]
  },
  {
   "cell_type": "markdown",
   "metadata": {},
   "source": [
    "他と比べて値が大きすぎるユーザーがいる。\n",
    "REVENUEが100以上の件数を調べて少ないようだったら外れ値として除外する"
   ]
  },
  {
   "cell_type": "code",
   "execution_count": 64,
   "metadata": {},
   "outputs": [
    {
     "data": {
      "text/html": [
       "<div>\n",
       "<style scoped>\n",
       "    .dataframe tbody tr th:only-of-type {\n",
       "        vertical-align: middle;\n",
       "    }\n",
       "\n",
       "    .dataframe tbody tr th {\n",
       "        vertical-align: top;\n",
       "    }\n",
       "\n",
       "    .dataframe thead th {\n",
       "        text-align: right;\n",
       "    }\n",
       "</style>\n",
       "<table border=\"1\" class=\"dataframe\">\n",
       "  <thead>\n",
       "    <tr style=\"text-align: right;\">\n",
       "      <th></th>\n",
       "      <th>USER_ID</th>\n",
       "      <th>VARIANT_NAME</th>\n",
       "      <th>REVENUE</th>\n",
       "    </tr>\n",
       "  </thead>\n",
       "  <tbody>\n",
       "    <tr>\n",
       "      <th>1437</th>\n",
       "      <td>3342</td>\n",
       "      <td>control</td>\n",
       "      <td>196.01</td>\n",
       "    </tr>\n",
       "    <tr>\n",
       "      <th>8168</th>\n",
       "      <td>2166</td>\n",
       "      <td>control</td>\n",
       "      <td>29.32</td>\n",
       "    </tr>\n",
       "    <tr>\n",
       "      <th>2482</th>\n",
       "      <td>7356</td>\n",
       "      <td>variant</td>\n",
       "      <td>23.04</td>\n",
       "    </tr>\n",
       "    <tr>\n",
       "      <th>6412</th>\n",
       "      <td>1053</td>\n",
       "      <td>control</td>\n",
       "      <td>20.07</td>\n",
       "    </tr>\n",
       "    <tr>\n",
       "      <th>5217</th>\n",
       "      <td>3684</td>\n",
       "      <td>variant</td>\n",
       "      <td>19.47</td>\n",
       "    </tr>\n",
       "    <tr>\n",
       "      <th>...</th>\n",
       "      <td>...</td>\n",
       "      <td>...</td>\n",
       "      <td>...</td>\n",
       "    </tr>\n",
       "    <tr>\n",
       "      <th>3366</th>\n",
       "      <td>1189</td>\n",
       "      <td>control</td>\n",
       "      <td>0.00</td>\n",
       "    </tr>\n",
       "    <tr>\n",
       "      <th>3363</th>\n",
       "      <td>2051</td>\n",
       "      <td>variant</td>\n",
       "      <td>0.00</td>\n",
       "    </tr>\n",
       "    <tr>\n",
       "      <th>3362</th>\n",
       "      <td>3276</td>\n",
       "      <td>variant</td>\n",
       "      <td>0.00</td>\n",
       "    </tr>\n",
       "    <tr>\n",
       "      <th>3360</th>\n",
       "      <td>1608</td>\n",
       "      <td>variant</td>\n",
       "      <td>0.00</td>\n",
       "    </tr>\n",
       "    <tr>\n",
       "      <th>9999</th>\n",
       "      <td>9468</td>\n",
       "      <td>control</td>\n",
       "      <td>0.00</td>\n",
       "    </tr>\n",
       "  </tbody>\n",
       "</table>\n",
       "<p>6070 rows × 3 columns</p>\n",
       "</div>"
      ],
      "text/plain": [
       "      USER_ID VARIANT_NAME  REVENUE\n",
       "1437     3342      control   196.01\n",
       "8168     2166      control    29.32\n",
       "2482     7356      variant    23.04\n",
       "6412     1053      control    20.07\n",
       "5217     3684      variant    19.47\n",
       "...       ...          ...      ...\n",
       "3366     1189      control     0.00\n",
       "3363     2051      variant     0.00\n",
       "3362     3276      variant     0.00\n",
       "3360     1608      variant     0.00\n",
       "9999     9468      control     0.00\n",
       "\n",
       "[6070 rows x 3 columns]"
      ]
     },
     "execution_count": 64,
     "metadata": {},
     "output_type": "execute_result"
    }
   ],
   "source": [
    "#ソートしてREVERUE１００以上が何人いるか確認\n",
    "df_1.sort_values(by=\"REVENUE\",ascending=False)"
   ]
  },
  {
   "cell_type": "code",
   "execution_count": 68,
   "metadata": {},
   "outputs": [
    {
     "data": {
      "text/plain": [
       "<matplotlib.axes._subplots.AxesSubplot at 0x405495f700>"
      ]
     },
     "execution_count": 68,
     "metadata": {},
     "output_type": "execute_result"
    },
    {
     "data": {
      "image/png": "[encoded data removed]",
      "text/plain": [
       "<Figure size 432x288 with 1 Axes>"
      ]
     },
     "metadata": {
      "needs_background": "light"
     },
     "output_type": "display_data"
    }
   ],
   "source": [
    "#外れ値を除外して再度箱ひげ図を作成\n",
    "df_1 = df_1[df_1[\"REVENUE\"]<100] #外れ値を除外\n",
    "sns.boxplot(data=df_1, x=\"VARIANT_NAME\", y=\"REVENUE\")"
   ]
  },
  {
   "cell_type": "markdown",
   "metadata": {},
   "source": [
    "ほとんどが0\n",
    "介入群の方が若干収益が高いか\n",
    "同一グループ内で複数サイトに訪れている人が各グループに６割ほどいたため複数来訪しているユーザーが０を多くしている可能性がある"
   ]
  },
  {
   "cell_type": "code",
   "execution_count": 71,
   "metadata": {},
   "outputs": [
    {
     "name": "stdout",
     "output_type": "stream",
     "text": [
      "4782\n",
      "4782\n"
     ]
    }
   ],
   "source": [
    "#ユーザー毎に１行のテーブルを作成\n",
    "print(df_1[\"USER_ID\"].nunique()) #ユーザー数の確認\n",
    "df_2 = df_1.groupby([\"USER_ID\",\"VARIANT_NAME\"]).agg({\"REVENUE\":\"sum\"}).reset_index()\n",
    "print(df_2[\"USER_ID\"].nunique()) #結合後のユーザー数の確認"
   ]
  },
  {
   "cell_type": "code",
   "execution_count": 72,
   "metadata": {},
   "outputs": [
    {
     "data": {
      "text/plain": [
       "<matplotlib.axes._subplots.AxesSubplot at 0x40549925e0>"
      ]
     },
     "execution_count": 72,
     "metadata": {},
     "output_type": "execute_result"
    },
    {
     "data": {
      "image/png": "[encoded data removed]",
      "text/plain": [
       "<Figure size 432x288 with 1 Axes>"
      ]
     },
     "metadata": {
      "needs_background": "light"
     },
     "output_type": "display_data"
    }
   ],
   "source": [
    "#箱ひげ図を作成\n",
    "sns.boxplot(data=df_2, x=\"VARIANT_NAME\", y=\"REVENUE\")"
   ]
  },
  {
   "cell_type": "code",
   "execution_count": 73,
   "metadata": {},
   "outputs": [
    {
     "data": {
      "text/plain": [
       "<matplotlib.axes._subplots.AxesSubplot at 0x405496ccd0>"
      ]
     },
     "execution_count": 73,
     "metadata": {},
     "output_type": "execute_result"
    },
    {
     "data": {
      "image/png": "[encoded data removed]",
      "text/plain": [
       "<Figure size 432x288 with 1 Axes>"
      ]
     },
     "metadata": {
      "needs_background": "light"
     },
     "output_type": "display_data"
    }
   ],
   "source": [
    "#変わらないためREVENUE>0でみてみる\n",
    "sns.boxplot(data=df_2[df_2[\"REVENUE\"]>0], x=\"VARIANT_NAME\", y=\"REVENUE\")"
   ]
  },
  {
   "cell_type": "markdown",
   "metadata": {},
   "source": [
    "介入群の方が若干箱が大きくなっている。\n",
    "\n",
    "７５％以上のユーザー数も多い。"
   ]
  },
  {
   "cell_type": "code",
   "execution_count": 77,
   "metadata": {},
   "outputs": [
    {
     "data": {
      "text/html": [
       "<div>\n",
       "<style scoped>\n",
       "    .dataframe tbody tr th:only-of-type {\n",
       "        vertical-align: middle;\n",
       "    }\n",
       "\n",
       "    .dataframe tbody tr th {\n",
       "        vertical-align: top;\n",
       "    }\n",
       "\n",
       "    .dataframe thead th {\n",
       "        text-align: right;\n",
       "    }\n",
       "</style>\n",
       "<table border=\"1\" class=\"dataframe\">\n",
       "  <thead>\n",
       "    <tr style=\"text-align: right;\">\n",
       "      <th></th>\n",
       "      <th>VARIANT_NAME</th>\n",
       "      <th>USER_ID</th>\n",
       "    </tr>\n",
       "  </thead>\n",
       "  <tbody>\n",
       "    <tr>\n",
       "      <th>0</th>\n",
       "      <td>control</td>\n",
       "      <td>2389</td>\n",
       "    </tr>\n",
       "    <tr>\n",
       "      <th>1</th>\n",
       "      <td>variant</td>\n",
       "      <td>2393</td>\n",
       "    </tr>\n",
       "  </tbody>\n",
       "</table>\n",
       "</div>"
      ],
      "text/plain": [
       "  VARIANT_NAME  USER_ID\n",
       "0      control     2389\n",
       "1      variant     2393"
      ]
     },
     "execution_count": 77,
     "metadata": {},
     "output_type": "execute_result"
    }
   ],
   "source": [
    "#ユーザー数をカウント\n",
    "test = df_2.groupby(\"VARIANT_NAME\").agg({\"USER_ID\":\"count\"}).reset_index()\n",
    "test"
   ]
  },
  {
   "cell_type": "code",
   "execution_count": 78,
   "metadata": {},
   "outputs": [
    {
     "data": {
      "text/html": [
       "<div>\n",
       "<style scoped>\n",
       "    .dataframe tbody tr th:only-of-type {\n",
       "        vertical-align: middle;\n",
       "    }\n",
       "\n",
       "    .dataframe tbody tr th {\n",
       "        vertical-align: top;\n",
       "    }\n",
       "\n",
       "    .dataframe thead th {\n",
       "        text-align: right;\n",
       "    }\n",
       "</style>\n",
       "<table border=\"1\" class=\"dataframe\">\n",
       "  <thead>\n",
       "    <tr style=\"text-align: right;\">\n",
       "      <th></th>\n",
       "      <th>VARIANT_NAME</th>\n",
       "      <th>USER_ID</th>\n",
       "    </tr>\n",
       "  </thead>\n",
       "  <tbody>\n",
       "    <tr>\n",
       "      <th>0</th>\n",
       "      <td>control</td>\n",
       "      <td>53</td>\n",
       "    </tr>\n",
       "    <tr>\n",
       "      <th>1</th>\n",
       "      <td>variant</td>\n",
       "      <td>42</td>\n",
       "    </tr>\n",
       "  </tbody>\n",
       "</table>\n",
       "</div>"
      ],
      "text/plain": [
       "  VARIANT_NAME  USER_ID\n",
       "0      control       53\n",
       "1      variant       42"
      ]
     },
     "execution_count": 78,
     "metadata": {},
     "output_type": "execute_result"
    }
   ],
   "source": [
    "#REVENUEが０以外のユーザー数カウント\n",
    "test_revenue = df_2[df_2[\"REVENUE\"]>0].groupby(\"VARIANT_NAME\").agg({\"USER_ID\":\"count\"}).reset_index()\n",
    "test_revenue"
   ]
  },
  {
   "cell_type": "code",
   "execution_count": 79,
   "metadata": {},
   "outputs": [
    {
     "data": {
      "text/html": [
       "<div>\n",
       "<style scoped>\n",
       "    .dataframe tbody tr th:only-of-type {\n",
       "        vertical-align: middle;\n",
       "    }\n",
       "\n",
       "    .dataframe tbody tr th {\n",
       "        vertical-align: top;\n",
       "    }\n",
       "\n",
       "    .dataframe thead th {\n",
       "        text-align: right;\n",
       "    }\n",
       "</style>\n",
       "<table border=\"1\" class=\"dataframe\">\n",
       "  <thead>\n",
       "    <tr style=\"text-align: right;\">\n",
       "      <th></th>\n",
       "      <th>VARIANT_NAME</th>\n",
       "      <th>REVENUE</th>\n",
       "    </tr>\n",
       "  </thead>\n",
       "  <tbody>\n",
       "    <tr>\n",
       "      <th>0</th>\n",
       "      <td>control</td>\n",
       "      <td>274.55</td>\n",
       "    </tr>\n",
       "    <tr>\n",
       "      <th>1</th>\n",
       "      <td>variant</td>\n",
       "      <td>179.32</td>\n",
       "    </tr>\n",
       "  </tbody>\n",
       "</table>\n",
       "</div>"
      ],
      "text/plain": [
       "  VARIANT_NAME  REVENUE\n",
       "0      control   274.55\n",
       "1      variant   179.32"
      ]
     },
     "execution_count": 79,
     "metadata": {},
     "output_type": "execute_result"
    }
   ],
   "source": [
    "#REVERUEの合計値\n",
    "test_sum_revenue = df_2.groupby(\"VARIANT_NAME\").agg({\"REVENUE\":\"sum\"}).reset_index()\n",
    "test_sum_revenue"
   ]
  },
  {
   "cell_type": "code",
   "execution_count": 87,
   "metadata": {},
   "outputs": [],
   "source": [
    "#データを結合\n",
    "test_data = pd.merge(test, test_revenue, on=\"VARIANT_NAME\", how=\"inner\")"
   ]
  },
  {
   "cell_type": "code",
   "execution_count": 88,
   "metadata": {},
   "outputs": [
    {
     "data": {
      "text/html": [
       "<div>\n",
       "<style scoped>\n",
       "    .dataframe tbody tr th:only-of-type {\n",
       "        vertical-align: middle;\n",
       "    }\n",
       "\n",
       "    .dataframe tbody tr th {\n",
       "        vertical-align: top;\n",
       "    }\n",
       "\n",
       "    .dataframe thead th {\n",
       "        text-align: right;\n",
       "    }\n",
       "</style>\n",
       "<table border=\"1\" class=\"dataframe\">\n",
       "  <thead>\n",
       "    <tr style=\"text-align: right;\">\n",
       "      <th></th>\n",
       "      <th>VARIANT_NAME</th>\n",
       "      <th>USER_ID_x</th>\n",
       "      <th>USER_ID_y</th>\n",
       "      <th>no revenue</th>\n",
       "    </tr>\n",
       "  </thead>\n",
       "  <tbody>\n",
       "    <tr>\n",
       "      <th>0</th>\n",
       "      <td>control</td>\n",
       "      <td>2389</td>\n",
       "      <td>53</td>\n",
       "      <td>2336</td>\n",
       "    </tr>\n",
       "    <tr>\n",
       "      <th>1</th>\n",
       "      <td>variant</td>\n",
       "      <td>2393</td>\n",
       "      <td>42</td>\n",
       "      <td>2351</td>\n",
       "    </tr>\n",
       "  </tbody>\n",
       "</table>\n",
       "</div>"
      ],
      "text/plain": [
       "  VARIANT_NAME  USER_ID_x  USER_ID_y  no revenue\n",
       "0      control       2389         53        2336\n",
       "1      variant       2393         42        2351"
      ]
     },
     "execution_count": 88,
     "metadata": {},
     "output_type": "execute_result"
    }
   ],
   "source": [
    "#revenueに繋がらなかったユーザー数を算出\n",
    "test_data[\"no revenue\"] = test_data[\"USER_ID_x\"] - test_data[\"USER_ID_y\"]\n",
    "test_data"
   ]
  },
  {
   "cell_type": "code",
   "execution_count": 94,
   "metadata": {},
   "outputs": [],
   "source": [
    "#カラム名を変更\n",
    "test_data.rename(columns={\"USER_ID_y\":\"revenue\"},inplace=True)\n",
    "#USER_ID_xを削除\n",
    "test_data.drop(\"USER_ID_x\", axis=1, inplace=True)"
   ]
  },
  {
   "cell_type": "code",
   "execution_count": 95,
   "metadata": {},
   "outputs": [
    {
     "data": {
      "text/html": [
       "<div>\n",
       "<style scoped>\n",
       "    .dataframe tbody tr th:only-of-type {\n",
       "        vertical-align: middle;\n",
       "    }\n",
       "\n",
       "    .dataframe tbody tr th {\n",
       "        vertical-align: top;\n",
       "    }\n",
       "\n",
       "    .dataframe thead th {\n",
       "        text-align: right;\n",
       "    }\n",
       "</style>\n",
       "<table border=\"1\" class=\"dataframe\">\n",
       "  <thead>\n",
       "    <tr style=\"text-align: right;\">\n",
       "      <th></th>\n",
       "      <th>VARIANT_NAME</th>\n",
       "      <th>revenue</th>\n",
       "      <th>no revenue</th>\n",
       "    </tr>\n",
       "  </thead>\n",
       "  <tbody>\n",
       "    <tr>\n",
       "      <th>0</th>\n",
       "      <td>control</td>\n",
       "      <td>53</td>\n",
       "      <td>2336</td>\n",
       "    </tr>\n",
       "    <tr>\n",
       "      <th>1</th>\n",
       "      <td>variant</td>\n",
       "      <td>42</td>\n",
       "      <td>2351</td>\n",
       "    </tr>\n",
       "  </tbody>\n",
       "</table>\n",
       "</div>"
      ],
      "text/plain": [
       "  VARIANT_NAME  revenue  no revenue\n",
       "0      control       53        2336\n",
       "1      variant       42        2351"
      ]
     },
     "execution_count": 95,
     "metadata": {},
     "output_type": "execute_result"
    }
   ],
   "source": [
    "test_data"
   ]
  },
  {
   "cell_type": "markdown",
   "metadata": {},
   "source": [
    "検定を行うにあたり仮説設定\n",
    "\n",
    "・帰無仮説　variantとcontrolのrevenue数は同じ(control=variant)\n",
    "\n",
    "・対立仮説　variantはcontrolよりrevenur数が多い(control<variant)\n",
    "\n",
    "・有意水準5%のカイ二乗検定"
   ]
  },
  {
   "cell_type": "code",
   "execution_count": 99,
   "metadata": {},
   "outputs": [],
   "source": [
    "#検定用データを作成\n",
    "test_1 = pd.DataFrame([[53,2336], [42,2351]])\n",
    "\n",
    "#カイ二乗検定 今回イェーツの補正はFalse\n",
    "chi2, p, dof, expected = chi2_contingency(test_1, correction=False)"
   ]
  },
  {
   "cell_type": "code",
   "execution_count": 100,
   "metadata": {},
   "outputs": [
    {
     "name": "stdout",
     "output_type": "stream",
     "text": [
      "カイ二乗値: 1.3183443731098519\n",
      "p値: 0.25088940020869427\n",
      "自由度: 1\n",
      "期待度数: [[  47.46026767 2341.53973233]\n",
      " [  47.53973233 2345.46026767]]\n"
     ]
    }
   ],
   "source": [
    "#結果の確認\n",
    "print(\"カイ二乗値:\", chi2)\n",
    "print(\"p値:\", p)\n",
    "print(\"自由度:\", dof)\n",
    "print(\"期待度数:\", expected)"
   ]
  },
  {
   "cell_type": "markdown",
   "metadata": {},
   "source": [
    "カイ二乗値が1.32と自由度１のカイ二乗分布(0.05)は3.84と５％検定で帰無仮説を棄却できない。\n",
    "\n",
    "そのため100回中95回以内に同様の事象は起こり得ると判断できる。\n",
    "\n",
    "今回の検定結果からcontrolとvariantにおけるrevenur数において有意な差は見られなかった。"
   ]
  },
  {
   "cell_type": "code",
   "execution_count": 102,
   "metadata": {},
   "outputs": [],
   "source": [
    "#revenue額の検定\n",
    "variant = df_2[df_2[\"VARIANT_NAME\"]==\"variant\"][\"REVENUE\"] #対照群\n",
    "control = df_2[df_2[\"VARIANT_NAME\"]==\"control\"][\"REVENUE\"] #介入群"
   ]
  },
  {
   "cell_type": "code",
   "execution_count": 110,
   "metadata": {},
   "outputs": [
    {
     "name": "stdout",
     "output_type": "stream",
     "text": [
      "variant_mean: 0.07493522774759716\n",
      "control_mean: 0.11492256174131439\n",
      "variant_mean - control_mean: -0.03998733399371723\n",
      "--------------------------------------------------\n",
      "variant_std: 0.8582073793203311\n",
      "control_std: 1.162494594046206\n"
     ]
    }
   ],
   "source": [
    "#統計量の確認\n",
    "print(\"variant_mean:\", variant.mean())\n",
    "print(\"control_mean:\", control.mean())\n",
    "print(\"variant_mean - control_mean:\", variant.mean() - control.mean())\n",
    "\n",
    "print(\"-\"*50)\n",
    "\n",
    "print(\"variant_std:\", variant.std(ddof=1))\n",
    "print(\"control_std:\", control.std(ddof=1))"
   ]
  },
  {
   "cell_type": "markdown",
   "metadata": {},
   "source": [
    "平均はcontrolが0.04高い。\n",
    "不変標準偏差も平均と同様にcontrol群が高い"
   ]
  },
  {
   "cell_type": "code",
   "execution_count": 122,
   "metadata": {},
   "outputs": [
    {
     "data": {
      "text/plain": [
       "(array([18., 15.,  2.,  2.,  1.,  2.,  0.,  0.,  1.,  1.]),\n",
       " array([2.0000e-02, 2.3220e+00, 4.6240e+00, 6.9260e+00, 9.2280e+00,\n",
       "        1.1530e+01, 1.3832e+01, 1.6134e+01, 1.8436e+01, 2.0738e+01,\n",
       "        2.3040e+01]),\n",
       " <a list of 10 Patch objects>)"
      ]
     },
     "execution_count": 122,
     "metadata": {},
     "output_type": "execute_result"
    },
    {
     "data": {
      "image/png": "[encoded data removed]",
      "text/plain": [
       "<Figure size 432x288 with 1 Axes>"
      ]
     },
     "metadata": {
      "needs_background": "light"
     },
     "output_type": "display_data"
    }
   ],
   "source": [
    "#正規分布の確認\n",
    "a = variant > 0 #variantが0以外を抽出\n",
    "a = a[a]\n",
    "a = variant[a.index]\n",
    "\n",
    "plt.hist(a,bins=10) #ヒストグラム描画"
   ]
  },
  {
   "cell_type": "markdown",
   "metadata": {},
   "source": [
    "F検定を行い分散に差がないことを検定する\n",
    "\n",
    "有意水準は0.05とする"
   ]
  },
  {
   "cell_type": "code",
   "execution_count": 127,
   "metadata": {},
   "outputs": [
    {
     "name": "stdout",
     "output_type": "stream",
     "text": [
      "F値: 0.5450076585182311\n",
      "two_pval: 4.291830878193023e-49\n"
     ]
    }
   ],
   "source": [
    "v_var = np.var(variant, ddof=1) #variant不変分散\n",
    "c_var = np.var(control, ddof=1) #control不変分散\n",
    "v_df = len(variant) #variant自由度\n",
    "c_df = len(control) #controlの自由度\n",
    "f = v_var / c_var #F比の値\n",
    "pval1 = stats.f.cdf(f, v_df, c_df) #片側検定\n",
    "pval2 = stats.f.sf(f, v_df, c_df) #片側検定\n",
    "two_pval = min(pval1, pval2)*2 #両側検定\n",
    "\n",
    "print(\"F値:\", f)\n",
    "print(\"two_pval:\", two_pval)"
   ]
  },
  {
   "cell_type": "markdown",
   "metadata": {},
   "source": [
    "２群はp < 0.05であり、帰無仮説は棄却された"
   ]
  },
  {
   "cell_type": "markdown",
   "metadata": {},
   "source": [
    "中央値に差があるかの検定を行う\n",
    "\n",
    "・帰無仮説　中央値に差がない\n",
    "\n",
    "・対立仮説　中央値に差がある\n",
    "\n",
    "ウィルコクソンの順位和検定 有意水準0.05"
   ]
  },
  {
   "cell_type": "code",
   "execution_count": 128,
   "metadata": {},
   "outputs": [
    {
     "data": {
      "text/plain": [
       "MannwhitneyuResult(statistic=2845109.0, pvalue=0.24799555106821958)"
      ]
     },
     "execution_count": 128,
     "metadata": {},
     "output_type": "execute_result"
    }
   ],
   "source": [
    "#ウィルコクソンの順位和検定\n",
    "stats.mannwhitneyu(variant, control, alternative='two-sided')"
   ]
  },
  {
   "cell_type": "markdown",
   "metadata": {},
   "source": [
    "p値は0.27と0.05より大きいため有意水準0.05%で帰無仮説を棄却できない"
   ]
  },
  {
   "cell_type": "code",
   "execution_count": 130,
   "metadata": {},
   "outputs": [
    {
     "data": {
      "text/plain": [
       "MannwhitneyuResult(statistic=1029.0, pvalue=0.5314192217084708)"
      ]
     },
     "execution_count": 130,
     "metadata": {},
     "output_type": "execute_result"
    }
   ],
   "source": [
    "#ちなみにrevenueが０を抜くと\n",
    "a = variant > 0 #variantが0以外を抽出\n",
    "a = a[a]\n",
    "a = variant[a.index]\n",
    "\n",
    "b = control > 0\n",
    "b = b[b]\n",
    "b = control[b.index]\n",
    "\n",
    "stats.mannwhitneyu(a, b, alternative='two-sided')"
   ]
  },
  {
   "cell_type": "markdown",
   "metadata": {},
   "source": [
    "0を除いてもp値は0.5と帰無仮説を有意水準0.05%で棄却できない"
   ]
  },
  {
   "cell_type": "markdown",
   "metadata": {},
   "source": [
    "今回のABテストでは統計的に有意な差は見られなかった。\n",
    "そのため、今回の変更は収益に影響を及ぼさないため別の変更を検討する必要がある。"
   ]
  },
  {
   "cell_type": "code",
   "execution_count": null,
   "metadata": {},
   "outputs": [],
   "source": []
  }
 ],
 "metadata": {
  "kernelspec": {
   "display_name": "Python 3",
   "language": "python",
   "name": "python3"
  },
  "language_info": {
   "codemirror_mode": {
    "name": "ipython",
    "version": 3
   },
   "file_extension": ".py",
   "mimetype": "text/x-python",
   "name": "python",
   "nbconvert_exporter": "python",
   "pygments_lexer": "ipython3",
   "version": "3.8.3"
  }
 },
 "nbformat": 4,
 "nbformat_minor": 4
}
